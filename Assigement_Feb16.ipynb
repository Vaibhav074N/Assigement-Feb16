{
  "nbformat": 4,
  "nbformat_minor": 0,
  "metadata": {
    "colab": {
      "provenance": [],
      "authorship_tag": "ABX9TyMTriOTEguJ4X6OkiOb1HNq",
      "include_colab_link": true
    },
    "kernelspec": {
      "name": "python3",
      "display_name": "Python 3"
    },
    "language_info": {
      "name": "python"
    }
  },
  "cells": [
    {
      "cell_type": "markdown",
      "metadata": {
        "id": "view-in-github",
        "colab_type": "text"
      },
      "source": [
        "<a href=\"https://colab.research.google.com/github/Vaibhav074N/Assigement-Feb16/blob/main/Assigement_Feb16.ipynb\" target=\"_parent\"><img src=\"https://colab.research.google.com/assets/colab-badge.svg\" alt=\"Open In Colab\"/></a>"
      ]
    },
    {
      "cell_type": "markdown",
      "source": [
        "Q1.What is a database? Differentiate between SQL and NoSQL databases."
      ],
      "metadata": {
        "id": "ZeXU7UI3M7aI"
      }
    },
    {
      "cell_type": "markdown",
      "source": [
        "# Database :-\n",
        "1. It is a storage system that has a collection of data.\n",
        "2. Relational databases store data in the form of tables that can be easily retrieved, managed and updated.\n",
        "\n",
        "# SQL :-\n",
        "\n",
        "1.It manages structured data.\n",
        "\n",
        "2.It handles data in less volume.\n",
        "\n",
        "3.It gives only read scalability.\n",
        "\n",
        "4.It support complex transactions.\n",
        "\n",
        "5.Data arrives from one or few locations.\n",
        "\n",
        "# No-SQL :-\n",
        "\n",
        "1.It manages all type of data.\n",
        "\n",
        "2.It handles data in high volume.\n",
        "\n",
        "3.It gives both read and write Scalability.\n",
        "\n",
        "4.It support simple transactions.\n",
        "\n",
        "5.Data arrives from many locations."
      ],
      "metadata": {
        "id": "c-Udm7nPNNfK"
      }
    },
    {
      "cell_type": "code",
      "execution_count": null,
      "metadata": {
        "id": "lzzLRN1OM2IW"
      },
      "outputs": [],
      "source": [
        " "
      ]
    },
    {
      "cell_type": "markdown",
      "source": [
        "Q2.What is DDL? Explain why CREATE, DROP, ALTER, and TRUNCATE are used with an example."
      ],
      "metadata": {
        "id": "a3-HESJsPXVf"
      }
    },
    {
      "cell_type": "markdown",
      "source": [
        "DDL stands for Data Definition Language, and it refers to the set of SQL commands used to define and manipulate the structure of database objects, such as tables, indexes, and views.\n",
        "\n",
        "1.CREATE: This command is used to create a new database object, such as a table or view. \n",
        "\n",
        "2.DROP: This command is used to delete an existing database object, such as a table or view.\n",
        "\n",
        "3.ALTER: This command is used to modify the structure of an existing database object, such as a table or view.\n",
        "\n",
        "4.TRUNCATE: This command is used to delete all the data from an existing table, but it does not delete the table itself. "
      ],
      "metadata": {
        "id": "IleSg7QQRQNc"
      }
    },
    {
      "cell_type": "code",
      "source": [
        "'''\n",
        "CREATE TABLE customers\n",
        "(id INT PRIMARY KEY,\n",
        " name VARCHAR(50) NOT NULL,\n",
        " email VARCHAR(100) UNIQUE,\n",
        " phone VARCHAR(20));\n",
        "\n",
        "DROP TABLE customers;\n",
        "\n",
        "ALTER TABLE customers\n",
        "ADD address VARCHAR(100);\n",
        "\n",
        "TRUNCATE TABLE customers;\n",
        "\n",
        "'''"
      ],
      "metadata": {
        "id": "4jJnmJVJU5a8"
      },
      "execution_count": null,
      "outputs": []
    },
    {
      "cell_type": "markdown",
      "source": [
        "Q3.What is DML? Explain INSERT, UPDATE, and DELETE with an example."
      ],
      "metadata": {
        "id": "27qbdhgQZVEr"
      }
    },
    {
      "cell_type": "markdown",
      "source": [
        "DML stands for Data Manipulation Language, which is a subset of SQL (Structured Query Language) used for manipulating data stored in a database. DML is used to insert new data into a database, update existing data, and delete data from a database."
      ],
      "metadata": {
        "id": "FHvh4sBkZXSy"
      }
    },
    {
      "cell_type": "code",
      "source": [
        "# 1.INSERT Statement: The INSERT statement is used to insert new data into a table in a database. The syntax for the INSERT statement is as follows:\n",
        "\n",
        "#INSERT INTO table_name (column1, column2, column3, ...)\n",
        "# VALUES (value1, value2, value3, ...);\n"
      ],
      "metadata": {
        "id": "UZOAfiuBZWqc"
      },
      "execution_count": null,
      "outputs": []
    },
    {
      "cell_type": "code",
      "source": [
        "# 2.UPDATE Statement: The UPDATE statement is used to modify existing data in a table in a database. The syntax for the UPDATE statement is as follows:\n",
        "\n",
        "#UPDATE table_name\n",
        "# SET column1 = value1, column2 = value2, ...\n",
        "# WHERE condition;\n"
      ],
      "metadata": {
        "id": "iXvFzfC3aR0A"
      },
      "execution_count": null,
      "outputs": []
    },
    {
      "cell_type": "code",
      "source": [
        "# 3.DELETE Statement: The DELETE statement is used to delete data from a table in a database. The syntax for the DELETE statement is as follows:\n",
        "\n",
        "#DELETE FROM table_name\n",
        "# WHERE condition;\n"
      ],
      "metadata": {
        "id": "KhDNGsAlajGD"
      },
      "execution_count": null,
      "outputs": []
    },
    {
      "cell_type": "code",
      "source": [],
      "metadata": {
        "id": "hAwFeU93bXxO"
      },
      "execution_count": null,
      "outputs": []
    },
    {
      "cell_type": "markdown",
      "source": [
        "Q4. What is DQL? Explain SELECT with an example."
      ],
      "metadata": {
        "id": "M9ki84YwbYUG"
      }
    },
    {
      "cell_type": "markdown",
      "source": [
        "DQL stands for Data Query Language, which is a subset of SQL (Structured Query Language) used for querying and retrieving data from a database. DQL is used to fetch data from one or more tables and return the result as a set of rows."
      ],
      "metadata": {
        "id": "qadA-pLXbxwa"
      }
    },
    {
      "cell_type": "code",
      "source": [
        "#SELECT Statement: The SELECT statement is used to retrieve data from one or more tables in a database. \n",
        "\n",
        "# SELECT name, salary\n",
        "# FROM employees\n",
        "# WHERE department = 'Sales' AND salary > 50000;\n"
      ],
      "metadata": {
        "id": "vQvwxSXgbfFX"
      },
      "execution_count": null,
      "outputs": []
    },
    {
      "cell_type": "markdown",
      "source": [
        "Q5.Explain Primary Key and Foreign Key."
      ],
      "metadata": {
        "id": "Srg4NTpJcRcf"
      }
    },
    {
      "cell_type": "markdown",
      "source": [
        "Primary Key:\n",
        "A primary key is a column or a set of columns in a table that uniquely identifies each row in the table. The primary key constraint ensures that the values in the primary key column(s) are unique and not null. Typically, a primary key is created on a single column, but it can also be created on multiple columns."
      ],
      "metadata": {
        "id": "sUmo3xiichsc"
      }
    },
    {
      "cell_type": "markdown",
      "source": [
        "Foreign Key:\n",
        "A foreign key is a column or a set of columns in a table that refers to the primary key column(s) of another table. The foreign key constraint ensures that the values in the foreign key column(s) match the values in the primary key column(s) of the referenced table, or are null. This constraint helps maintain referential integrity between tables."
      ],
      "metadata": {
        "id": "Bj_QXaCtc-g5"
      }
    },
    {
      "cell_type": "code",
      "source": [],
      "metadata": {
        "id": "F7F_kT5_cV1Y"
      },
      "execution_count": null,
      "outputs": []
    },
    {
      "cell_type": "markdown",
      "source": [
        "Q6. Write a python code to connect MySQL to python. Explain the cursor() and execute() method."
      ],
      "metadata": {
        "id": "m0jSb-CFdJmC"
      }
    },
    {
      "cell_type": "code",
      "source": [
        "'''\n",
        "import mysql.connector\n",
        "\n",
        "mydb = mysql.connector.connect(host=\"localhost\" , user=\"abc\" , password=\"password\")\n",
        "mycursor = mydb.cursor()\n",
        "mycursor.execute(\"CREATE DATABASE if not exists Customer\")\n",
        "mydb.close()\n",
        "\n",
        "'''"
      ],
      "metadata": {
        "id": "i7YfiGVddKfM"
      },
      "execution_count": null,
      "outputs": []
    },
    {
      "cell_type": "markdown",
      "source": [
        "Explanation of cursor() and execute() methods:\n",
        "\n",
        "cursor(): This method creates a cursor object that allows you to execute SQL statements on the MySQL database. The cursor() method is called on the database connection object, as shown in the example code above. Once you have created the cursor object, you can use it to execute SQL statements using the execute() method.\n",
        "\n",
        "execute(): This method is used to execute an SQL statement on the MySQL database. The execute() method takes an SQL query as an argument and returns the result of the query, if any. In the example code above, we use the execute() method to execute the SQL query \"SELECT * FROM customers\" on the MySQL database. The result of the query is then fetched using the fetchall() method, which returns all rows of the result set as a list of tuples. Finally, we loop through the result set and print each row"
      ],
      "metadata": {
        "id": "mpVXJnQidTr1"
      }
    },
    {
      "cell_type": "code",
      "source": [],
      "metadata": {
        "id": "P2EH-ulNdZTd"
      },
      "execution_count": null,
      "outputs": []
    },
    {
      "cell_type": "markdown",
      "source": [
        "Q7.Give the order of execution of SQL clauses in an SQL query."
      ],
      "metadata": {
        "id": "p97IyARJda8D"
      }
    },
    {
      "cell_type": "markdown",
      "source": [
        "1.FROM: This clause specifies the table(s) or view(s) from which to retrieve the data.\n",
        "\n",
        "2.JOIN: This clause is used to join multiple tables together based on a specified condition.\n",
        "\n",
        "3.WHERE: This clause is used to filter the rows returned by the query based on a specified condition.\n",
        "\n",
        "4.GROUP BY: This clause is used to group the result set based on one or more columns.\n",
        "\n",
        "5.HAVING: This clause is used to filter the groups returned by the GROUP BY clause based on a specified condition.\n",
        "\n",
        "6.SELECT: This clause is used to specify the columns to be included in the result set.\n",
        "\n",
        "7.DISTINCT: This clause is used to eliminate duplicate rows from the result set.\n",
        "\n",
        "8.ORDER BY: This clause is used to sort the result set based on one or more columns.\n",
        "\n",
        "9.LIMIT: This clause is used to limit the number of rows returned by the query.\n",
        "\n",
        "It is important to note that not all of these clauses are required in every SQL query, and the order of execution may vary based on the specific query being executed. However, the general order of execution outlined above is a good guideline to follow when writing SQL queries."
      ],
      "metadata": {
        "id": "hiE5nZJDdq2p"
      }
    },
    {
      "cell_type": "code",
      "source": [],
      "metadata": {
        "id": "ZSbhnq1pdipk"
      },
      "execution_count": null,
      "outputs": []
    }
  ]
}